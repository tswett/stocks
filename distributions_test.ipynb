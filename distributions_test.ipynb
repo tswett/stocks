{
 "cells": [
  {
   "cell_type": "code",
   "execution_count": 1,
   "metadata": {},
   "outputs": [
    {
     "name": "stdout",
     "output_type": "stream",
     "text": [
      "rho is 62.4819944598338\n",
      "0.03 4.513965651201589 -4.513232766105375 454.3965651201589\n",
      "0.04022387364861014 -0.005088695332242684 0.05260256689439404 0.1772277553301818\n",
      "62.48199445983379\n",
      "0.007071510010514435\n",
      "0.03990069161198795\n",
      "us: mean 0.03, variance 4.513965651201589, skewness -4.513232766105375, excess kurtosis 451.3965651201589\n",
      "scipy: mean 0.03, variance 4.5139656512015875, skewness -4.513232766105375, excess kurtosis 451.39656512015887\n"
     ]
    }
   ],
   "source": [
    "from distributions import NigDistribution\n",
    "\n",
    "dist = NigDistribution.from_moments(0.03, 0.8, -1.9, 80)\n",
    "\n",
    "print(dist.mean, dist.variance, dist.skewness, dist.kurtosis)\n",
    "print(dist.alpha, dist.beta, dist.mu, dist.delta)\n",
    "print(dist.rho)\n",
    "print(dist.delta * dist.gamma)\n",
    "print(9/((-1.9)**2*dist.rho))\n",
    "\n",
    "dist.print_scipy_moment_comparison()"
   ]
  },
  {
   "cell_type": "code",
   "execution_count": 2,
   "metadata": {},
   "outputs": [
    {
     "name": "stdout",
     "output_type": "stream",
     "text": [
      "us: mean -0.20395263067896957, variance 5.119518787849849, skewness -0.21045833716146486, excess kurtosis 1.00396813143076\n",
      "scipy: mean -0.20395263067896957, variance 5.119518787849849, skewness -0.21045833716146486, excess kurtosis 1.0039681314307596\n"
     ]
    }
   ],
   "source": [
    "dist2 = NigDistribution(0.8, -0.1, 0.3, 4.0)\n",
    "\n",
    "dist2.print_scipy_moment_comparison()"
   ]
  },
  {
   "cell_type": "code",
   "execution_count": null,
   "metadata": {},
   "outputs": [],
   "source": []
  },
  {
   "cell_type": "code",
   "execution_count": null,
   "metadata": {},
   "outputs": [],
   "source": []
  },
  {
   "cell_type": "code",
   "execution_count": null,
   "metadata": {},
   "outputs": [],
   "source": []
  }
 ],
 "metadata": {
  "kernelspec": {
   "display_name": "Python 3",
   "language": "python",
   "name": "python3"
  },
  "language_info": {
   "codemirror_mode": {
    "name": "ipython",
    "version": 3
   },
   "file_extension": ".py",
   "mimetype": "text/x-python",
   "name": "python",
   "nbconvert_exporter": "python",
   "pygments_lexer": "ipython3",
   "version": "3.6.2"
  }
 },
 "nbformat": 4,
 "nbformat_minor": 4
}
