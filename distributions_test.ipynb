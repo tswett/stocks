{
 "cells": [
  {
   "cell_type": "code",
   "execution_count": 4,
   "metadata": {},
   "outputs": [
    {
     "name": "stdout",
     "output_type": "stream",
     "text": [
      "Actual moments of 'dist':\n",
      "0.03 0.7999999999999999 -1.8999999999999997 83.0\n",
      "\n",
      "Parameters used for 'dist':\n",
      "0.22696148001012362 -0.028712744923966662 0.05260256689439404 0.1772277553301818\n",
      "\n",
      "Miscellaneous numbers:\n",
      "62.4819944598338\n",
      "0.03990069161198794\n",
      "0.03990069161198794\n",
      "\n"
     ]
    }
   ],
   "source": [
    "from distributions import NigDistribution\n",
    "\n",
    "dist = NigDistribution.from_moments(0.03, 0.8, -1.9, 80)\n",
    "\n",
    "print(\"Actual moments of 'dist':\")\n",
    "print(dist.mean, dist.variance, dist.skewness, dist.kurtosis)\n",
    "print()\n",
    "\n",
    "print(\"Parameters used for 'dist':\")\n",
    "print(dist.alpha, dist.beta, dist.mu, dist.delta)\n",
    "print()\n",
    "\n",
    "print(\"Miscellaneous numbers:\")\n",
    "print(dist.rho)\n",
    "print(dist.delta * dist.gamma)\n",
    "print(9/((-1.9)**2*dist.rho))\n",
    "print()"
   ]
  },
  {
   "cell_type": "code",
   "execution_count": null,
   "metadata": {},
   "outputs": [],
   "source": []
  },
  {
   "cell_type": "code",
   "execution_count": null,
   "metadata": {},
   "outputs": [],
   "source": []
  },
  {
   "cell_type": "code",
   "execution_count": null,
   "metadata": {},
   "outputs": [],
   "source": []
  }
 ],
 "metadata": {
  "kernelspec": {
   "display_name": "Python 3",
   "language": "python",
   "name": "python3"
  },
  "language_info": {
   "codemirror_mode": {
    "name": "ipython",
    "version": 3
   },
   "file_extension": ".py",
   "mimetype": "text/x-python",
   "name": "python",
   "nbconvert_exporter": "python",
   "pygments_lexer": "ipython3",
   "version": "3.6.2"
  }
 },
 "nbformat": 4,
 "nbformat_minor": 4
}
