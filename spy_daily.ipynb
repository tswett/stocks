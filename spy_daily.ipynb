{
 "cells": [
  {
   "cell_type": "code",
   "execution_count": 1,
   "metadata": {},
   "outputs": [],
   "source": [
    "import numpy, pandas\n",
    "from mystats import Summary"
   ]
  },
  {
   "cell_type": "code",
   "execution_count": 2,
   "metadata": {},
   "outputs": [],
   "source": [
    "spy = pandas.read_csv('SPY.csv', parse_dates=['Date'])\n",
    "\n",
    "spy = spy.assign(cal_days=spy['Date'].diff())\n",
    "spy = spy.assign(log_pct_gain=100*numpy.log(spy['Adj Close']).diff())\n",
    "\n",
    "spy = spy.iloc[1:]\n",
    "\n",
    "spy = spy.assign(cal_days=spy.cal_days.dt.days)"
   ]
  },
  {
   "cell_type": "code",
   "execution_count": 3,
   "metadata": {},
   "outputs": [
    {
     "name": "stdout",
     "output_type": "stream",
     "text": [
      "Mean: 0.03655. Standard deviation: 1.144. Skewness: -0.1447. Kurtosis: 13.35.\n"
     ]
    },
    {
     "data": {
      "text/html": [
       "<div>\n",
       "<style scoped>\n",
       "    .dataframe tbody tr th:only-of-type {\n",
       "        vertical-align: middle;\n",
       "    }\n",
       "\n",
       "    .dataframe tbody tr th {\n",
       "        vertical-align: top;\n",
       "    }\n",
       "\n",
       "    .dataframe thead th {\n",
       "        text-align: right;\n",
       "    }\n",
       "</style>\n",
       "<table border=\"1\" class=\"dataframe\">\n",
       "  <thead>\n",
       "    <tr style=\"text-align: right;\">\n",
       "      <th></th>\n",
       "      <th>days</th>\n",
       "      <th>x</th>\n",
       "      <th>z_score</th>\n",
       "    </tr>\n",
       "  </thead>\n",
       "  <tbody>\n",
       "    <tr>\n",
       "      <td>1</td>\n",
       "      <td>3</td>\n",
       "      <td>0.708648</td>\n",
       "      <td>0.587682</td>\n",
       "    </tr>\n",
       "    <tr>\n",
       "      <td>2</td>\n",
       "      <td>1</td>\n",
       "      <td>0.211649</td>\n",
       "      <td>0.153107</td>\n",
       "    </tr>\n",
       "    <tr>\n",
       "      <td>3</td>\n",
       "      <td>1</td>\n",
       "      <td>1.051542</td>\n",
       "      <td>0.887509</td>\n",
       "    </tr>\n",
       "    <tr>\n",
       "      <td>4</td>\n",
       "      <td>1</td>\n",
       "      <td>0.417544</td>\n",
       "      <td>0.333141</td>\n",
       "    </tr>\n",
       "    <tr>\n",
       "      <td>5</td>\n",
       "      <td>1</td>\n",
       "      <td>-0.069448</td>\n",
       "      <td>-0.092685</td>\n",
       "    </tr>\n",
       "    <tr>\n",
       "      <td>...</td>\n",
       "      <td>...</td>\n",
       "      <td>...</td>\n",
       "      <td>...</td>\n",
       "    </tr>\n",
       "    <tr>\n",
       "      <td>6752</td>\n",
       "      <td>1</td>\n",
       "      <td>-0.372573</td>\n",
       "      <td>-0.357737</td>\n",
       "    </tr>\n",
       "    <tr>\n",
       "      <td>6753</td>\n",
       "      <td>1</td>\n",
       "      <td>-0.161020</td>\n",
       "      <td>-0.172756</td>\n",
       "    </tr>\n",
       "    <tr>\n",
       "      <td>6754</td>\n",
       "      <td>1</td>\n",
       "      <td>0.222141</td>\n",
       "      <td>0.162280</td>\n",
       "    </tr>\n",
       "    <tr>\n",
       "      <td>6755</td>\n",
       "      <td>3</td>\n",
       "      <td>0.772033</td>\n",
       "      <td>0.643106</td>\n",
       "    </tr>\n",
       "    <tr>\n",
       "      <td>6756</td>\n",
       "      <td>1</td>\n",
       "      <td>0.226310</td>\n",
       "      <td>0.165926</td>\n",
       "    </tr>\n",
       "  </tbody>\n",
       "</table>\n",
       "<p>6756 rows × 3 columns</p>\n",
       "</div>"
      ],
      "text/plain": [
       "      days         x   z_score\n",
       "1        3  0.708648  0.587682\n",
       "2        1  0.211649  0.153107\n",
       "3        1  1.051542  0.887509\n",
       "4        1  0.417544  0.333141\n",
       "5        1 -0.069448 -0.092685\n",
       "...    ...       ...       ...\n",
       "6752     1 -0.372573 -0.357737\n",
       "6753     1 -0.161020 -0.172756\n",
       "6754     1  0.222141  0.162280\n",
       "6755     3  0.772033  0.643106\n",
       "6756     1  0.226310  0.165926\n",
       "\n",
       "[6756 rows x 3 columns]"
      ]
     },
     "metadata": {},
     "output_type": "display_data"
    }
   ],
   "source": [
    "spy_summary = Summary(spy.log_pct_gain, spy.cal_days)\n",
    "spy_summary"
   ]
  },
  {
   "cell_type": "code",
   "execution_count": null,
   "metadata": {},
   "outputs": [],
   "source": []
  }
 ],
 "metadata": {
  "kernelspec": {
   "display_name": "Python 3",
   "language": "python",
   "name": "python3"
  },
  "language_info": {
   "codemirror_mode": {
    "name": "ipython",
    "version": 3
   },
   "file_extension": ".py",
   "mimetype": "text/x-python",
   "name": "python",
   "nbconvert_exporter": "python",
   "pygments_lexer": "ipython3",
   "version": "3.7.4"
  }
 },
 "nbformat": 4,
 "nbformat_minor": 4
}
