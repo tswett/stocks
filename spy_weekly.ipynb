{
 "cells": [
  {
   "cell_type": "code",
   "execution_count": 1,
   "metadata": {},
   "outputs": [],
   "source": [
    "import numpy, pandas\n",
    "from mystats import Summary"
   ]
  },
  {
   "cell_type": "code",
   "execution_count": 2,
   "metadata": {},
   "outputs": [],
   "source": [
    "spy_weekly = pandas.read_csv('SPY.csv', parse_dates=['Date'])\n",
    "\n",
    "spy_weekly['log_pct_gain'] = 100 * numpy.log(spy_weekly['Adj Close']).diff()\n",
    "\n",
    "spy_weekly = (spy_weekly.groupby(pandas.Grouper(freq='W', key='Date'))\n",
    "    .agg({'Date': numpy.max, 'log_pct_gain': numpy.sum}))\n",
    "\n",
    "spy_weekly['cal_days'] = spy_weekly['Date'].diff()\n",
    "\n",
    "spy_weekly = spy_weekly.iloc[1:]\n",
    "\n",
    "spy_weekly['cal_days'] = spy_weekly.cal_days.dt.days"
   ]
  },
  {
   "cell_type": "code",
   "execution_count": 3,
   "metadata": {},
   "outputs": [],
   "source": [
    "spy_summary = Summary(spy_weekly.log_pct_gain, spy_weekly.cal_days)"
   ]
  },
  {
   "cell_type": "code",
   "execution_count": 4,
   "metadata": {},
   "outputs": [
    {
     "name": "stdout",
     "output_type": "stream",
     "text": [
      "      fun: 3026.5637087483465\n",
      " hess_inv: <4x4 LbfgsInvHessProduct with dtype=float64>\n",
      "      jac: array([-7.73070497e-04, -2.18278728e-03, -9.09494702e-05,  9.54969437e-04])\n",
      "  message: b'CONVERGENCE: REL_REDUCTION_OF_F_<=_FACTR*EPSMCH'\n",
      "     nfev: 70\n",
      "      nit: 11\n",
      "   status: 0\n",
      "  success: True\n",
      "        x: array([ 0.76369507, -0.14146602,  0.54186506,  1.93890972])\n"
     ]
    }
   ],
   "source": [
    "from scipy.stats import norm, norminvgauss\n",
    "from scipy.optimize import minimize\n",
    "\n",
    "sorted_gains = spy_weekly.log_pct_gain.sort_values()\n",
    "\n",
    "def evaluate(params):\n",
    "    alpha, beta, loc, scale = params\n",
    "    return -norminvgauss.logpdf(sorted_gains, alpha, beta, loc, scale).sum()\n",
    "\n",
    "optimization = minimize(evaluate, [0.8,-0.1,0.5,1.9], bounds=[(0,None),(-2,2),(None,None),(None,None)])\n",
    "\n",
    "print(optimization)\n",
    "\n",
    "alpha, beta, loc, scale = optimization.x"
   ]
  },
  {
   "cell_type": "code",
   "execution_count": 7,
   "metadata": {},
   "outputs": [
    {
     "data": {
      "text/plain": [
       "<Figure size 432x288 with 0 Axes>"
      ]
     },
     "metadata": {},
     "output_type": "display_data"
    },
    {
     "data": {
      "image/png": "[encoded data removed]",
      "text/plain": [
       "<Figure size 1224x792 with 1 Axes>"
      ]
     },
     "metadata": {},
     "output_type": "display_data"
    }
   ],
   "source": [
    "def nig_cdf(x):\n",
    "    return norminvgauss.cdf(x, alpha, beta, loc, scale)\n",
    "\n",
    "from matplotlib import pyplot\n",
    "pyplot.clf()\n",
    "pyplot.figure(figsize=(17,11))\n",
    "spy_summary.plot_empirical_cdf()\n",
    "pyplot.plot(sorted_gains, nig_cdf(sorted_gains))\n",
    "#pyplot.plot(sorted_gains, norm.cdf(sorted_gains, sorted_gains.mean(), sorted_gains.std()))\n",
    "pyplot.show()"
   ]
  },
  {
   "cell_type": "code",
   "execution_count": 6,
   "metadata": {},
   "outputs": [
    {
     "data": {
      "text/plain": [
       "'3.1.2'"
      ]
     },
     "execution_count": 6,
     "metadata": {},
     "output_type": "execute_result"
    }
   ],
   "source": [
    "import matplotlib\n",
    "matplotlib.__version__"
   ]
  },
  {
   "cell_type": "code",
   "execution_count": null,
   "metadata": {},
   "outputs": [],
   "source": []
  },
  {
   "cell_type": "code",
   "execution_count": null,
   "metadata": {},
   "outputs": [],
   "source": []
  }
 ],
 "metadata": {
  "kernelspec": {
   "display_name": "Python 3",
   "language": "python",
   "name": "python3"
  },
  "language_info": {
   "codemirror_mode": {
    "name": "ipython",
    "version": 3
   },
   "file_extension": ".py",
   "mimetype": "text/x-python",
   "name": "python",
   "nbconvert_exporter": "python",
   "pygments_lexer": "ipython3",
   "version": "3.6.2"
  }
 },
 "nbformat": 4,
 "nbformat_minor": 4
}
